{
 "cells": [
  {
   "cell_type": "code",
   "execution_count": 0,
   "metadata": {
    "application/vnd.databricks.v1+cell": {
     "cellMetadata": {
      "byteLimit": 2048000,
      "rowLimit": 10000
     },
     "inputWidgets": {},
     "nuid": "fb9b39c4-6159-41e9-8b32-1bd9aaf9cf9f",
     "showTitle": false,
     "title": ""
    }
   },
   "outputs": [],
   "source": [
    "from pyspark.sql import SparkSession\n",
    "from pyspark.sql.functions import expr\n",
    "import os\n",
    "from time import sleep"
   ]
  },
  {
   "cell_type": "code",
   "execution_count": 0,
   "metadata": {
    "application/vnd.databricks.v1+cell": {
     "cellMetadata": {
      "byteLimit": 2048000,
      "rowLimit": 10000
     },
     "inputWidgets": {},
     "nuid": "7bfc6d23-56a2-4663-be8e-db13e183086e",
     "showTitle": false,
     "title": ""
    }
   },
   "outputs": [],
   "source": [
    "class BDSTestSuite:\n",
    "    def __init__(self,base_dir):\n",
    "        self.base_dir = base_dir\n",
    "        self.read_path = self.base_dir+'/input'\n",
    "        self.write_path = self.base_dir+'/output'\n",
    "        self.checkpoint_path = self.base_dir+'/checkpoint'\n",
    "        self.sample_data_path = self.base_dir+'/sameple_data'\n",
    "\n",
    "    def clean_test(self):\n",
    "        print(f\"Starting Cleanup...\", end='')\n",
    "        spark.sql(\"drop table if exists bds_silver\")\n",
    "        dbutils.fs.rm(self.base_dir, recurse=True)\n",
    "        dbutils.fs.mkdirs(self.read_path)\n",
    "        dbutils.fs.mkdirs(self.write_path)\n",
    "        dbutils.fs.mkdirs(self.checkpoint_path)\n",
    "        dbutils.fs.mkdirs(self.sample_data_path)\n",
    "        print(\"Done\")\n",
    "\n",
    "    def ingest_data(self,itr):\n",
    "        print(f\"\\tStarting Ingestion...\", end='')\n",
    "        dbutils.fs.cp(f\"{self.sample_data_path}/sample_data_{itr}.json\", f\"{self.read_path}/sample_data_{itr}.json\")\n",
    "        print('Done')\n",
    "        \n",
    "\n",
    "    def createSampleData(self):\n",
    "        import json\n",
    "        import os  \n",
    "        sameple_data_1 = [\n",
    "            {\n",
    "                \"Diện tích\": \"138,7 m²\",\n",
    "                \"Mức giá\": \"16,2 tỷ\",\n",
    "                \"Mặt tiền\": \"6 m\",\n",
    "                \"Đường vào\": \"7 m\",\n",
    "                \"Hướng nhà\": \"Đông - Bắc\",\n",
    "                \"Hướng ban công\": \"Đông - Bắc\",\n",
    "                \"Số tầng\": \"3 tầng\",\n",
    "                \"Số phòng ngủ\": \"4 phòng\",\n",
    "                \"Số toilet\": \"4 phòng\",\n",
    "                \"Pháp lý\": \"Sổ đỏ/ Sổ hồng\",\n",
    "                \"Nội thất\": \"Cửa Eurowindow hai lớp cách âm, sàn gỗ nhập từ Đức, cửa cuốn Đức, thiết bị phòng toilet nhập từ Italy, Cầu thang lát đá cao cấp, nội thất gạch, đồ gỗ cao cấp, tinh tế, sang trọng.\",\n",
    "                \"Ngày đăng\": \"01/01/2024\",\n",
    "                \"Ngày hết hạn\": \"16/01/2024\",\n",
    "                \"Loại tin\": \"Tin thường\",\n",
    "                \"Mã tin\": \"32320245\",\n",
    "                \"Địa chỉ\": \"Đường 163 Đặng Văn Bi, Phường Trường Thọ, Thủ Đức, Hồ Chí Minh\",\n",
    "                \"latitude\": 10.8442983372416,\n",
    "                \"longtitude\": 106.759748676305,\n",
    "                \"url\": \"https://batdongsan.com.vn/ban-nha-rieng-duong-dang-van-bi-phuong-truong-tho-2/can-ban-gap-chinh-chu-hien-dai-rat-dep-tai-khu-do-thi-trung-tam-thu-duc-pr32320245\"\n",
    "            },\n",
    "            {\n",
    "                \"Diện tích\": \"28,5 m²\",\n",
    "                \"Mức giá\": \"3,5 tỷ\",\n",
    "                \"Mặt tiền\": \"3 m\",\n",
    "                \"Đường vào\": \"5 m\",\n",
    "                \"Hướng nhà\": None,\n",
    "                \"Hướng ban công\": None,\n",
    "                \"Số tầng\": \"3 tầng\",\n",
    "                \"Số phòng ngủ\": \"4 phòng\",\n",
    "                \"Số toilet\": \"3 phòng\",\n",
    "                \"Pháp lý\": \"Sổ đỏ/ Sổ hồng\",\n",
    "                \"Nội thất\": \"Cơ bản\",\n",
    "                \"Ngày đăng\": \"28/12/2023\",\n",
    "                \"Ngày hết hạn\": \"12/01/2024\",\n",
    "                \"Loại tin\": \"Tin VIP Vàng\",\n",
    "                \"Mã tin\": \"37980805\",\n",
    "                \"Địa chỉ\": \"Đường Chiến Lược, Phường Bình Trị Đông, Bình Tân, Hồ Chí Minh\",\n",
    "                \"latitude\": 10.761891,\n",
    "                \"longtitude\": 106.6135907,\n",
    "                \"url\": \"https://batdongsan.com.vn/ban-nha-rieng-duong-chien-luoc-phuong-binh-tri-dong/ban-gap-3-lau-gia-3-ty-790-tl-luoc-pr37980805\"\n",
    "            }\n",
    "        ]\n",
    "\n",
    "        sameple_data_2 = [\n",
    "            {\n",
    "                \"Diện tích\": \"100 m²\",\n",
    "                \"Mức giá\": \"2,58 tỷ\",\n",
    "                \"Mặt tiền\": \"4 m\",\n",
    "                \"Đường vào\": \"6 m\",\n",
    "                \"Hướng nhà\": None,\n",
    "                \"Hướng ban công\": None,\n",
    "                \"Số tầng\": \"3 tầng\",\n",
    "                \"Số phòng ngủ\": \"4 phòng\",\n",
    "                \"Số toilet\": \"3 phòng\",\n",
    "                \"Pháp lý\": \"Sổ đỏ/ Sổ hồng\",\n",
    "                \"Nội thất\": \"Đầy đủ\",\n",
    "                \"Ngày đăng\": \"04/01/2024\",\n",
    "                \"Ngày hết hạn\": \"19/01/2024\",\n",
    "                \"Loại tin\": \"Tin VIP Vàng\",\n",
    "                \"Mã tin\": \"38942422\",\n",
    "                \"Địa chỉ\": \"Đường Lê Trọng Tấn, Phường Tây Thạnh, Tân Phú, Hồ Chí Minh\",\n",
    "                \"latitude\": 10.8159855,\n",
    "                \"longtitude\": 106.6019505,\n",
    "                \"url\":'https://batdongsan.com.vn/'\n",
    "            },\n",
    "            {\n",
    "                \"Diện tích\": \"38,5 m²\",\n",
    "                \"Mức giá\": \"3,85 tỷ\",\n",
    "                \"Mặt tiền\": None,\n",
    "                \"Đường vào\": None,\n",
    "                \"Hướng nhà\": None,\n",
    "                \"Hướng ban công\": None,\n",
    "                \"Số tầng\": None,\n",
    "                \"Số phòng ngủ\": \"2 phòng\",\n",
    "                \"Số toilet\": \"2 phòng\",\n",
    "                \"Pháp lý\": None,\n",
    "                \"Nội thất\": None,\n",
    "                \"Ngày đăng\": \"04/01/2024\",\n",
    "                \"Ngày hết hạn\": \"14/01/2024\",\n",
    "                \"Loại tin\": \"Tin VIP Vàng\",\n",
    "                \"Mã tin\": \"38941742\",\n",
    "                \"Địa chỉ\": \"Đường Phạm Văn Chiêu, Phường 14, Gò Vấp, Hồ Chí Minh\",\n",
    "                \"latitude\": 10.8482095,\n",
    "                \"longtitude\": 106.6480933,\n",
    "                \"url\":'https://batdongsan.com.vn/'\n",
    "            }\n",
    "        ]\n",
    "\n",
    "\n",
    "        print('\\nCreate 2 sample data files....')\n",
    "        \n",
    "        dbutils.fs.put(self.sample_data_path+\"/sample_data_1.json\",json.dumps(sameple_data_1, indent=4,ensure_ascii=False) , True)\n",
    "        dbutils.fs.put(self.sample_data_path+\"/sample_data_2.json\",json.dumps(sameple_data_2, indent=4,ensure_ascii=False) , True)\n",
    "        print('Done')\n",
    "\n",
    "    \n",
    "    def start_test(self):\n",
    "        self.createSampleData()\n",
    "\n",
    "        print(\"Testing first iteration of stream...\") \n",
    "        self.ingest_data(1)\n",
    "        sleep(5)\n",
    "\n",
    "        print(\"\\nTesting second iteration of stream...\") \n",
    "        self.ingest_data(2)\n",
    "        sleep(5)"
   ]
  },
  {
   "cell_type": "code",
   "execution_count": 0,
   "metadata": {
    "application/vnd.databricks.v1+cell": {
     "cellMetadata": {
      "byteLimit": 2048000,
      "rowLimit": 10000
     },
     "inputWidgets": {},
     "nuid": "2d89390f-e2dd-480d-b5af-277fed7bfac7",
     "showTitle": false,
     "title": ""
    }
   },
   "outputs": [],
   "source": [
    "%run \"/Users/vinhquoc2049@gmail.com/bds_streaming_pipeline\""
   ]
  },
  {
   "cell_type": "code",
   "execution_count": 0,
   "metadata": {
    "application/vnd.databricks.v1+cell": {
     "cellMetadata": {
      "byteLimit": 2048000,
      "rowLimit": 10000
     },
     "inputWidgets": {},
     "nuid": "e1b2a564-f55f-4ebb-bd0a-f8bd0e28ed3b",
     "showTitle": false,
     "title": ""
    }
   },
   "outputs": [],
   "source": [
    "%run \"/Users/vinhquoc2049@gmail.com/get_credentials\""
   ]
  },
  {
   "cell_type": "code",
   "execution_count": 0,
   "metadata": {
    "application/vnd.databricks.v1+cell": {
     "cellMetadata": {
      "byteLimit": 2048000,
      "rowLimit": 10000
     },
     "inputWidgets": {},
     "nuid": "7c78612b-2b09-450d-baba-06af4010216a",
     "showTitle": false,
     "title": ""
    }
   },
   "outputs": [
    {
     "output_type": "stream",
     "name": "stdout",
     "output_type": "stream",
     "text": [
      "No active streaming queries.\nStarting Cleanup...Done\n\nCreate 2 sample data files....\nWrote 2065 bytes.\nWrote 1519 bytes.\nDone\n\nStarting Bronze Stream...\n\nStarting Silver Stream...\nCreate 2 sample data files....\nWrote 2065 bytes.\nWrote 1519 bytes.\nDone\nTesting first iteration of stream...\n\tStarting Ingestion...Done\n\nTesting second iteration of stream...\n\tStarting Ingestion...Done\n"
     ]
    }
   ],
   "source": [
    "from delta.tables import DeltaTable\n",
    "import os\n",
    "\n",
    "def stop_all_streaming_queries():\n",
    "    # Get the active streaming queries\n",
    "    active_queries = spark.streams.active\n",
    "\n",
    "    # Check if there are any active queries\n",
    "    if active_queries:\n",
    "        print(\"List of Active Streaming Queries:\")\n",
    "        for query in active_queries:\n",
    "            print(f\"Query Name: {query.name}, ID: {query.id}\")\n",
    "            query.stop()\n",
    "    else:\n",
    "        print(\"No active streaming queries.\")\n",
    "\n",
    "\n",
    "def is_delta_table(table_path):\n",
    "    try:\n",
    "        delta_table = DeltaTable.forPath(spark, table_path)\n",
    "        return delta_table is not None\n",
    "    except Exception as e:\n",
    "        return False\n",
    "\n",
    "def main():\n",
    "    test_base_dir='/FileStore/bds_test_suite'\n",
    "    ts=BDSTestSuite(test_base_dir)\n",
    "    ts.clean_test()\n",
    "    ts.createSampleData()\n",
    "\n",
    "    bronze=BronzeBDS(ts.read_path,ts.write_path,ts.checkpoint_path)\n",
    "    silver=SilverBDS(bronze.write_path,ts.write_path,ts.checkpoint_path)\n",
    "    \n",
    "    # Fist iteration of testing\n",
    "    trigger='1 seconds'\n",
    "    bzQuery=bronze.process(trigger)\n",
    "    slQuery=silver.process(trigger)\n",
    "    ts.start_test()\n",
    "\n",
    "    # Increase or decrease this if your streaming queries do not finish in time\n",
    "    sleep(20)\n",
    "\n",
    "    bzQuery.stop()\n",
    "    slQuery.stop()\n",
    "\n",
    "stop_all_streaming_queries()\n",
    "main()"
   ]
  },
  {
   "cell_type": "code",
   "execution_count": 0,
   "metadata": {
    "application/vnd.databricks.v1+cell": {
     "cellMetadata": {
      "byteLimit": 2048000,
      "rowLimit": 10000
     },
     "inputWidgets": {},
     "nuid": "d8f0c542-1cb5-48fe-94d5-5d20f0beb4a9",
     "showTitle": false,
     "title": ""
    }
   },
   "outputs": [
    {
     "output_type": "stream",
     "name": "stdout",
     "output_type": "stream",
     "text": [
      "+-----------+\n|      price|\n+-----------+\n| -979869184|\n| -794967296|\n|-1714967296|\n| -444967296|\n+-----------+\n\n"
     ]
    }
   ],
   "source": [
    "# stop_all_streaming_queries()\n",
    "df=spark.read \\\n",
    "    .format('delta')\\\n",
    "    .load('/FileStore/bds_test_suite/output/silver_property_df')\n",
    "\n",
    "df.select('price').show()"
   ]
  }
 ],
 "metadata": {
  "application/vnd.databricks.v1+notebook": {
   "dashboards": [],
   "language": "python",
   "notebookMetadata": {
    "mostRecentlyExecutedCommandWithImplicitDF": {
     "commandId": -1,
     "dataframes": [
      "_sqldf"
     ]
    },
    "pythonIndentUnit": 4
   },
   "notebookName": "bds_test_suite",
   "widgets": {}
  }
 },
 "nbformat": 4,
 "nbformat_minor": 0
}
